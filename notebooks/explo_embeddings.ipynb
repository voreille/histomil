{
 "cells": [
  {
   "cell_type": "code",
   "execution_count": null,
   "metadata": {},
   "outputs": [],
   "source": [
    "from pathlib import Path\n",
    "\n",
    "import h5py"
   ]
  },
  {
   "cell_type": "code",
   "execution_count": null,
   "metadata": {},
   "outputs": [],
   "source": [
    "# Open the HDF5 file in read mode\n",
    "hdf5_path = \"/home/valentin/workspaces/histomil/data/processed/embeddings/superpixel_moco_org_99.h5\"\n",
    "hdf5_file = h5py.File(hdf5_path, \"r\")\n",
    "\n",
    "# List the groups (train/test) and their contents\n",
    "def print_h5_structure(group, indent=0):\n",
    "    \"\"\"Recursively prints the structure of an HDF5 file.\"\"\"\n",
    "    for key in group.keys():\n",
    "        print(\"  \" * indent + f\"📂 {key}\")\n",
    "        if isinstance(group[key], h5py.Group):\n",
    "            print_h5_structure(group[key], indent + 1)\n",
    "\n",
    "print_h5_structure(hdf5_file)"
   ]
  },
  {
   "cell_type": "code",
   "execution_count": null,
   "metadata": {},
   "outputs": [],
   "source": [
    "# Access embeddings of a specific WSI\n",
    "wsi_id = \"C3L-01663-21\"\n",
    "split = \"train\"\n",
    "\n",
    "embeddings = hdf5_file[f\"{split}/{wsi_id}/embeddings\"][:]\n",
    "label = hdf5_file[f\"{split}/{wsi_id}\"].attrs[\"label\"]\n",
    "\n",
    "print(f\"WSI ID: {wsi_id}\")\n",
    "print(f\"Label: {label}\")\n",
    "print(f\"Embeddings shape: {embeddings.shape}\")"
   ]
  },
  {
   "cell_type": "code",
   "execution_count": null,
   "metadata": {},
   "outputs": [],
   "source": []
  }
 ],
 "metadata": {
  "kernelspec": {
   "display_name": "torchpl",
   "language": "python",
   "name": "python3"
  },
  "language_info": {
   "codemirror_mode": {
    "name": "ipython",
    "version": 3
   },
   "file_extension": ".py",
   "mimetype": "text/x-python",
   "name": "python",
   "nbconvert_exporter": "python",
   "pygments_lexer": "ipython3",
   "version": "3.11.0"
  }
 },
 "nbformat": 4,
 "nbformat_minor": 2
}
