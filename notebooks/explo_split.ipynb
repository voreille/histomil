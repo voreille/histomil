{
 "cells": [
  {
   "cell_type": "code",
   "execution_count": null,
   "metadata": {},
   "outputs": [],
   "source": [
    "from pathlib import Path\n",
    "import json\n",
    "\n",
    "import pandas as pd\n",
    "from tqdm import tqdm"
   ]
  },
  {
   "cell_type": "code",
   "execution_count": null,
   "metadata": {},
   "outputs": [],
   "source": [
    "cptac_test_df = pd.read_csv(\"/mnt/nas7/data/Personal/Valentin/cptac_mil/cptac_test.csv\")\n",
    "tiles_basedir = Path(\"/mnt/nas7/data/Personal/Valentin/histopath/tiles_20x/\")"
   ]
  },
  {
   "cell_type": "code",
   "execution_count": null,
   "metadata": {},
   "outputs": [],
   "source": [
    "tiles_dir_paths = [d for d in tiles_basedir.glob(\"cptac*/*/\")]"
   ]
  },
  {
   "cell_type": "code",
   "execution_count": null,
   "metadata": {},
   "outputs": [],
   "source": [
    "wsi_ids_test = cptac_test_df[\"Slide_ID\"].to_list()"
   ]
  },
  {
   "cell_type": "code",
   "execution_count": null,
   "metadata": {},
   "outputs": [],
   "source": [
    "tiles_dir_paths_train = [d for d in tiles_dir_paths if not d.stem in wsi_ids_test]"
   ]
  },
  {
   "cell_type": "code",
   "execution_count": null,
   "metadata": {},
   "outputs": [],
   "source": [
    "len(tiles_dir_paths_train)"
   ]
  },
  {
   "cell_type": "code",
   "execution_count": null,
   "metadata": {},
   "outputs": [],
   "source": [
    "metadata_tiles_path = \"/mnt/nas7/data/Personal/Valentin/histopath/tiles_20x/tiles_metadata.json\"\n",
    "\n",
    "with open(metadata_tiles_path, \"r\") as f:\n",
    "    metadata_tiles = json.load(f)  # Load JSON into a Python dictionary\n"
   ]
  },
  {
   "cell_type": "code",
   "execution_count": null,
   "metadata": {},
   "outputs": [],
   "source": [
    "Path(metadata_tiles[0][\"patch_dir\"]).parents[1].name"
   ]
  },
  {
   "cell_type": "code",
   "execution_count": null,
   "metadata": {},
   "outputs": [],
   "source": [
    "len(metadata_tiles)"
   ]
  },
  {
   "cell_type": "code",
   "execution_count": null,
   "metadata": {},
   "outputs": [],
   "source": [
    "metadata_tiles_filtered = [\n",
    "    meta for meta in tqdm(metadata_tiles)\n",
    "    if Path(meta[\"patch_dir\"]).parents[1].name in ['cptac_lusc', 'cptac_luad']\n",
    "]"
   ]
  },
  {
   "cell_type": "code",
   "execution_count": null,
   "metadata": {},
   "outputs": [],
   "source": [
    "len(metadata_tiles_filtered)"
   ]
  },
  {
   "cell_type": "code",
   "execution_count": null,
   "metadata": {},
   "outputs": [],
   "source": [
    "tile_paths = []\n",
    "for meta in metadata_tiles_filtered:\n",
    "    tile_paths.extend(meta[\"patch_files\"])"
   ]
  },
  {
   "cell_type": "code",
   "execution_count": null,
   "metadata": {},
   "outputs": [],
   "source": [
    "tile_paths[0]"
   ]
  },
  {
   "cell_type": "code",
   "execution_count": null,
   "metadata": {},
   "outputs": [],
   "source": [
    "old_base = \"/home/valentin/workspaces/histolung/data/interim/tiles\"\n",
    "new_base = \"/mnt/nas7/data/Personal/Valentin/histopath/tiles_14jan25\"\n",
    "\n",
    "updated_tile_paths = [path.replace(old_base, new_base) for path in tile_paths]"
   ]
  },
  {
   "cell_type": "code",
   "execution_count": null,
   "metadata": {},
   "outputs": [],
   "source": [
    "len(tile_paths)"
   ]
  },
  {
   "cell_type": "code",
   "execution_count": null,
   "metadata": {},
   "outputs": [],
   "source": [
    "len(updated_tile_paths)"
   ]
  },
  {
   "cell_type": "code",
   "execution_count": null,
   "metadata": {},
   "outputs": [],
   "source": [
    "with open(\n",
    "        \"/home/valentin/workspaces/histomil/data/processed/metadata/cptac_tile_paths_20x.json\",\n",
    "        \"w\") as f:\n",
    "    json.dump(tile_paths, f, indent=4)"
   ]
  },
  {
   "cell_type": "code",
   "execution_count": null,
   "metadata": {},
   "outputs": [],
   "source": []
  }
 ],
 "metadata": {
  "kernelspec": {
   "display_name": "torchpl",
   "language": "python",
   "name": "python3"
  },
  "language_info": {
   "codemirror_mode": {
    "name": "ipython",
    "version": 3
   },
   "file_extension": ".py",
   "mimetype": "text/x-python",
   "name": "python",
   "nbconvert_exporter": "python",
   "pygments_lexer": "ipython3",
   "version": "3.11.0"
  }
 },
 "nbformat": 4,
 "nbformat_minor": 2
}
