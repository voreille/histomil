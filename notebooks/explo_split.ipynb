{
 "cells": [
  {
   "cell_type": "code",
   "execution_count": 19,
   "metadata": {},
   "outputs": [],
   "source": [
    "from pathlib import Path\n",
    "import json\n",
    "\n",
    "import pandas as pd\n",
    "from tqdm import tqdm"
   ]
  },
  {
   "cell_type": "code",
   "execution_count": 2,
   "metadata": {},
   "outputs": [],
   "source": [
    "cptac_test_df = pd.read_csv(\"/mnt/nas7/data/Personal/Valentin/cptac_mil/cptac_test.csv\")\n",
    "tiles_basedir = Path(\"/mnt/nas7/data/Personal/Valentin/histopath/tiles_14jan25/\")"
   ]
  },
  {
   "cell_type": "code",
   "execution_count": 3,
   "metadata": {},
   "outputs": [],
   "source": [
    "tiles_dir_paths = [d for d in tiles_basedir.glob(\"cptac*/*/\")]"
   ]
  },
  {
   "cell_type": "code",
   "execution_count": 4,
   "metadata": {},
   "outputs": [],
   "source": [
    "wsi_ids_test = cptac_test_df[\"Slide_ID\"].to_list()"
   ]
  },
  {
   "cell_type": "code",
   "execution_count": 5,
   "metadata": {},
   "outputs": [],
   "source": [
    "tiles_dir_paths_train = [d for d in tiles_dir_paths if not d.stem in wsi_ids_test]"
   ]
  },
  {
   "cell_type": "code",
   "execution_count": 6,
   "metadata": {},
   "outputs": [
    {
     "data": {
      "text/plain": [
       "1672"
      ]
     },
     "execution_count": 6,
     "metadata": {},
     "output_type": "execute_result"
    }
   ],
   "source": [
    "len(tiles_dir_paths_train)"
   ]
  },
  {
   "cell_type": "code",
   "execution_count": 7,
   "metadata": {},
   "outputs": [
    {
     "ename": "KeyboardInterrupt",
     "evalue": "",
     "output_type": "error",
     "traceback": [
      "\u001b[0;31m---------------------------------------------------------------------------\u001b[0m",
      "\u001b[0;31mKeyboardInterrupt\u001b[0m                         Traceback (most recent call last)",
      "Cell \u001b[0;32mIn[7], line 1\u001b[0m\n\u001b[0;32m----> 1\u001b[0m tile_train_paths \u001b[38;5;241m=\u001b[39m [f \u001b[38;5;28;01mfor\u001b[39;00m f \u001b[38;5;129;01min\u001b[39;00m tiles_basedir\u001b[38;5;241m.\u001b[39mglob(\u001b[38;5;124m\"\u001b[39m\u001b[38;5;124mcptac*/*/tiles/*.png\u001b[39m\u001b[38;5;124m\"\u001b[39m)]\n",
      "Cell \u001b[0;32mIn[7], line 1\u001b[0m, in \u001b[0;36m<listcomp>\u001b[0;34m(.0)\u001b[0m\n\u001b[0;32m----> 1\u001b[0m tile_train_paths \u001b[38;5;241m=\u001b[39m [f \u001b[38;5;28;01mfor\u001b[39;00m f \u001b[38;5;129;01min\u001b[39;00m tiles_basedir\u001b[38;5;241m.\u001b[39mglob(\u001b[38;5;124m\"\u001b[39m\u001b[38;5;124mcptac*/*/tiles/*.png\u001b[39m\u001b[38;5;124m\"\u001b[39m)]\n",
      "File \u001b[0;32m~/miniconda3/envs/torchpl/lib/python3.11/pathlib.py:953\u001b[0m, in \u001b[0;36mPath.glob\u001b[0;34m(self, pattern)\u001b[0m\n\u001b[1;32m    951\u001b[0m     pattern_parts\u001b[38;5;241m.\u001b[39mappend(\u001b[38;5;124m'\u001b[39m\u001b[38;5;124m'\u001b[39m)\n\u001b[1;32m    952\u001b[0m selector \u001b[38;5;241m=\u001b[39m _make_selector(\u001b[38;5;28mtuple\u001b[39m(pattern_parts), \u001b[38;5;28mself\u001b[39m\u001b[38;5;241m.\u001b[39m_flavour)\n\u001b[0;32m--> 953\u001b[0m \u001b[38;5;28;01mfor\u001b[39;00m p \u001b[38;5;129;01min\u001b[39;00m selector\u001b[38;5;241m.\u001b[39mselect_from(\u001b[38;5;28mself\u001b[39m):\n\u001b[1;32m    954\u001b[0m     \u001b[38;5;28;01myield\u001b[39;00m p\n",
      "File \u001b[0;32m~/miniconda3/envs/torchpl/lib/python3.11/pathlib.py:372\u001b[0m, in \u001b[0;36m_WildcardSelector._select_from\u001b[0;34m(self, parent_path, is_dir, exists, scandir)\u001b[0m\n\u001b[1;32m    370\u001b[0m         \u001b[38;5;28;01mif\u001b[39;00m \u001b[38;5;28mself\u001b[39m\u001b[38;5;241m.\u001b[39mmatch(name):\n\u001b[1;32m    371\u001b[0m             path \u001b[38;5;241m=\u001b[39m parent_path\u001b[38;5;241m.\u001b[39m_make_child_relpath(name)\n\u001b[0;32m--> 372\u001b[0m             \u001b[38;5;28;01mfor\u001b[39;00m p \u001b[38;5;129;01min\u001b[39;00m \u001b[38;5;28mself\u001b[39m\u001b[38;5;241m.\u001b[39msuccessor\u001b[38;5;241m.\u001b[39m_select_from(path, is_dir, exists, scandir):\n\u001b[1;32m    373\u001b[0m                 \u001b[38;5;28;01myield\u001b[39;00m p\n\u001b[1;32m    374\u001b[0m \u001b[38;5;28;01mexcept\u001b[39;00m \u001b[38;5;167;01mPermissionError\u001b[39;00m:\n",
      "File \u001b[0;32m~/miniconda3/envs/torchpl/lib/python3.11/pathlib.py:372\u001b[0m, in \u001b[0;36m_WildcardSelector._select_from\u001b[0;34m(self, parent_path, is_dir, exists, scandir)\u001b[0m\n\u001b[1;32m    370\u001b[0m         \u001b[38;5;28;01mif\u001b[39;00m \u001b[38;5;28mself\u001b[39m\u001b[38;5;241m.\u001b[39mmatch(name):\n\u001b[1;32m    371\u001b[0m             path \u001b[38;5;241m=\u001b[39m parent_path\u001b[38;5;241m.\u001b[39m_make_child_relpath(name)\n\u001b[0;32m--> 372\u001b[0m             \u001b[38;5;28;01mfor\u001b[39;00m p \u001b[38;5;129;01min\u001b[39;00m \u001b[38;5;28mself\u001b[39m\u001b[38;5;241m.\u001b[39msuccessor\u001b[38;5;241m.\u001b[39m_select_from(path, is_dir, exists, scandir):\n\u001b[1;32m    373\u001b[0m                 \u001b[38;5;28;01myield\u001b[39;00m p\n\u001b[1;32m    374\u001b[0m \u001b[38;5;28;01mexcept\u001b[39;00m \u001b[38;5;167;01mPermissionError\u001b[39;00m:\n",
      "File \u001b[0;32m~/miniconda3/envs/torchpl/lib/python3.11/pathlib.py:340\u001b[0m, in \u001b[0;36m_PreciseSelector._select_from\u001b[0;34m(self, parent_path, is_dir, exists, scandir)\u001b[0m\n\u001b[1;32m    338\u001b[0m \u001b[38;5;28;01mtry\u001b[39;00m:\n\u001b[1;32m    339\u001b[0m     path \u001b[38;5;241m=\u001b[39m parent_path\u001b[38;5;241m.\u001b[39m_make_child_relpath(\u001b[38;5;28mself\u001b[39m\u001b[38;5;241m.\u001b[39mname)\n\u001b[0;32m--> 340\u001b[0m     \u001b[38;5;28;01mif\u001b[39;00m (is_dir \u001b[38;5;28;01mif\u001b[39;00m \u001b[38;5;28mself\u001b[39m\u001b[38;5;241m.\u001b[39mdironly \u001b[38;5;28;01melse\u001b[39;00m exists)(path):\n\u001b[1;32m    341\u001b[0m         \u001b[38;5;28;01mfor\u001b[39;00m p \u001b[38;5;129;01min\u001b[39;00m \u001b[38;5;28mself\u001b[39m\u001b[38;5;241m.\u001b[39msuccessor\u001b[38;5;241m.\u001b[39m_select_from(path, is_dir, exists, scandir):\n\u001b[1;32m    342\u001b[0m             \u001b[38;5;28;01myield\u001b[39;00m p\n",
      "File \u001b[0;32m~/miniconda3/envs/torchpl/lib/python3.11/pathlib.py:1250\u001b[0m, in \u001b[0;36mPath.is_dir\u001b[0;34m(self)\u001b[0m\n\u001b[1;32m   1246\u001b[0m \u001b[38;5;250m\u001b[39m\u001b[38;5;124;03m\"\"\"\u001b[39;00m\n\u001b[1;32m   1247\u001b[0m \u001b[38;5;124;03mWhether this path is a directory.\u001b[39;00m\n\u001b[1;32m   1248\u001b[0m \u001b[38;5;124;03m\"\"\"\u001b[39;00m\n\u001b[1;32m   1249\u001b[0m \u001b[38;5;28;01mtry\u001b[39;00m:\n\u001b[0;32m-> 1250\u001b[0m     \u001b[38;5;28;01mreturn\u001b[39;00m S_ISDIR(\u001b[38;5;28mself\u001b[39m\u001b[38;5;241m.\u001b[39mstat()\u001b[38;5;241m.\u001b[39mst_mode)\n\u001b[1;32m   1251\u001b[0m \u001b[38;5;28;01mexcept\u001b[39;00m \u001b[38;5;167;01mOSError\u001b[39;00m \u001b[38;5;28;01mas\u001b[39;00m e:\n\u001b[1;32m   1252\u001b[0m     \u001b[38;5;28;01mif\u001b[39;00m \u001b[38;5;129;01mnot\u001b[39;00m _ignore_error(e):\n",
      "File \u001b[0;32m~/miniconda3/envs/torchpl/lib/python3.11/pathlib.py:1013\u001b[0m, in \u001b[0;36mPath.stat\u001b[0;34m(self, follow_symlinks)\u001b[0m\n\u001b[1;32m   1008\u001b[0m \u001b[38;5;28;01mdef\u001b[39;00m \u001b[38;5;21mstat\u001b[39m(\u001b[38;5;28mself\u001b[39m, \u001b[38;5;241m*\u001b[39m, follow_symlinks\u001b[38;5;241m=\u001b[39m\u001b[38;5;28;01mTrue\u001b[39;00m):\n\u001b[1;32m   1009\u001b[0m \u001b[38;5;250m    \u001b[39m\u001b[38;5;124;03m\"\"\"\u001b[39;00m\n\u001b[1;32m   1010\u001b[0m \u001b[38;5;124;03m    Return the result of the stat() system call on this path, like\u001b[39;00m\n\u001b[1;32m   1011\u001b[0m \u001b[38;5;124;03m    os.stat() does.\u001b[39;00m\n\u001b[1;32m   1012\u001b[0m \u001b[38;5;124;03m    \"\"\"\u001b[39;00m\n\u001b[0;32m-> 1013\u001b[0m     \u001b[38;5;28;01mreturn\u001b[39;00m os\u001b[38;5;241m.\u001b[39mstat(\u001b[38;5;28mself\u001b[39m, follow_symlinks\u001b[38;5;241m=\u001b[39mfollow_symlinks)\n",
      "\u001b[0;31mKeyboardInterrupt\u001b[0m: "
     ]
    }
   ],
   "source": [
    "tile_train_paths = [f for f in tiles_basedir.glob(\"cptac*/*/tiles/*.png\")]"
   ]
  },
  {
   "cell_type": "code",
   "execution_count": 9,
   "metadata": {},
   "outputs": [],
   "source": [
    "metadata_tiles_path = \"/mnt/nas7/data/Personal/Valentin/histopath/tiles_14jan25/tiles_metadata.json\"\n",
    "\n",
    "with open(metadata_tiles_path, \"r\") as f:\n",
    "    metadata_tiles = json.load(f)  # Load JSON into a Python dictionary\n"
   ]
  },
  {
   "cell_type": "code",
   "execution_count": 14,
   "metadata": {},
   "outputs": [
    {
     "data": {
      "text/plain": [
       "'cptac_lusc'"
      ]
     },
     "execution_count": 14,
     "metadata": {},
     "output_type": "execute_result"
    }
   ],
   "source": [
    "Path(metadata_tiles[0][\"patch_dir\"]).parents[1].name"
   ]
  },
  {
   "cell_type": "code",
   "execution_count": 21,
   "metadata": {},
   "outputs": [
    {
     "name": "stderr",
     "output_type": "stream",
     "text": [
      "100%|██████████| 3091/3091 [00:00<00:00, 138767.10it/s]\n"
     ]
    }
   ],
   "source": [
    "metadata_tiles_filtered = [\n",
    "    meta for meta in tqdm(metadata_tiles)\n",
    "    if Path(meta[\"patch_dir\"]).parents[1].name in ['cptac_lusc', 'cptac_luad']\n",
    "]"
   ]
  },
  {
   "cell_type": "code",
   "execution_count": 24,
   "metadata": {},
   "outputs": [
    {
     "data": {
      "text/plain": [
       "2050"
      ]
     },
     "execution_count": 24,
     "metadata": {},
     "output_type": "execute_result"
    }
   ],
   "source": [
    "len(metadata_tiles_filtered)"
   ]
  },
  {
   "cell_type": "code",
   "execution_count": 29,
   "metadata": {},
   "outputs": [],
   "source": [
    "tile_paths = []\n",
    "for meta in metadata_tiles_filtered:\n",
    "    tile_paths.extend(meta[\"patch_files\"])"
   ]
  },
  {
   "cell_type": "code",
   "execution_count": 32,
   "metadata": {},
   "outputs": [
    {
     "data": {
      "text/plain": [
       "'/home/valentin/workspaces/histolung/data/interim/tiles/cptac_lusc/C3N-05915-29/tiles/C3N-05915-29__x34048_y7168.png'"
      ]
     },
     "execution_count": 32,
     "metadata": {},
     "output_type": "execute_result"
    }
   ],
   "source": [
    "tile_paths[0]"
   ]
  },
  {
   "cell_type": "code",
   "execution_count": 33,
   "metadata": {},
   "outputs": [],
   "source": [
    "old_base = \"/home/valentin/workspaces/histolung/data/interim/tiles\"\n",
    "new_base = \"/mnt/nas7/data/Personal/Valentin/histopath/tiles_14jan25\"\n",
    "\n",
    "updated_tile_paths = [path.replace(old_base, new_base) for path in tile_paths]"
   ]
  },
  {
   "cell_type": "code",
   "execution_count": 37,
   "metadata": {},
   "outputs": [
    {
     "data": {
      "text/plain": [
       "4063887"
      ]
     },
     "execution_count": 37,
     "metadata": {},
     "output_type": "execute_result"
    }
   ],
   "source": [
    "len(updated_tile_paths)"
   ]
  },
  {
   "cell_type": "code",
   "execution_count": 36,
   "metadata": {},
   "outputs": [],
   "source": [
    "with open(\n",
    "        \"/home/valentin/workspaces/histomil/data/processed/metadata/cptac_tile_paths.json\",\n",
    "        \"w\") as f:\n",
    "    json.dump(updated_tile_paths, f, indent=4)"
   ]
  },
  {
   "cell_type": "code",
   "execution_count": null,
   "metadata": {},
   "outputs": [],
   "source": []
  }
 ],
 "metadata": {
  "kernelspec": {
   "display_name": "torchpl",
   "language": "python",
   "name": "python3"
  },
  "language_info": {
   "codemirror_mode": {
    "name": "ipython",
    "version": 3
   },
   "file_extension": ".py",
   "mimetype": "text/x-python",
   "name": "python",
   "nbconvert_exporter": "python",
   "pygments_lexer": "ipython3",
   "version": "3.11.0"
  }
 },
 "nbformat": 4,
 "nbformat_minor": 2
}
