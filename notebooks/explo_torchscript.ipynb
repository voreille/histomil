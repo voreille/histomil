{
 "cells": [
  {
   "cell_type": "code",
   "execution_count": null,
   "id": "56642f5a",
   "metadata": {},
   "outputs": [],
   "source": [
    "import torch\n",
    "\n",
    "from histomil.models.models import load_model, get_device"
   ]
  },
  {
   "cell_type": "code",
   "execution_count": null,
   "id": "d1d0079a",
   "metadata": {},
   "outputs": [],
   "source": [
    "device = get_device(gpu_id=0)"
   ]
  },
  {
   "cell_type": "code",
   "execution_count": null,
   "id": "303daff5",
   "metadata": {},
   "outputs": [],
   "source": [
    "model, preprocess, embedding_dim = load_model(\"bioptimus\", device=device)"
   ]
  },
  {
   "cell_type": "code",
   "execution_count": null,
   "id": "04f7f4b0",
   "metadata": {},
   "outputs": [],
   "source": [
    "class ScriptableViTWrapper(torch.nn.Module):\n",
    "    def __init__(self, model):\n",
    "        super().__init__()\n",
    "        self.model = model\n",
    "\n",
    "    def forward(self, x):\n",
    "        return self.model(x)"
   ]
  },
  {
   "cell_type": "code",
   "execution_count": null,
   "id": "d468e43a",
   "metadata": {},
   "outputs": [],
   "source": [
    "# Prepare a dummy input with the expected shape (for ViT, typically [batch, 3, 224, 224]).\n",
    "dummy_input = torch.randn(1, 3, 224, 224).to(device)\n",
    "\n",
    "# Trace the model.\n",
    "scripted_model = torch.jit.trace(model, dummy_input)\n",
    "\n",
    "# (Optional) Freeze the scripted model for further optimization.\n",
    "scripted_model = torch.jit.freeze(scripted_model)"
   ]
  },
  {
   "cell_type": "code",
   "execution_count": null,
   "id": "bfefb896",
   "metadata": {},
   "outputs": [],
   "source": [
    "scripted_model = torch.jit.script(model)"
   ]
  },
  {
   "cell_type": "code",
   "execution_count": null,
   "id": "ff76e457",
   "metadata": {},
   "outputs": [],
   "source": [
    "# Prepare a dummy input with the expected shape (for ViT, typically [batch, 3, 224, 224]).\n",
    "dummy_input = torch.randn(1, 3, 224, 224)\n",
    "dummy_input = dummy_input.to(device)\n",
    "\n",
    "# Trace the model.\n",
    "\n"
   ]
  },
  {
   "cell_type": "code",
   "execution_count": null,
   "id": "b1334651",
   "metadata": {},
   "outputs": [],
   "source": []
  }
 ],
 "metadata": {
  "kernelspec": {
   "display_name": "torchpl",
   "language": "python",
   "name": "python3"
  },
  "language_info": {
   "codemirror_mode": {
    "name": "ipython",
    "version": 3
   },
   "file_extension": ".py",
   "mimetype": "text/x-python",
   "name": "python",
   "nbconvert_exporter": "python",
   "pygments_lexer": "ipython3",
   "version": "3.11.0"
  }
 },
 "nbformat": 4,
 "nbformat_minor": 5
}
